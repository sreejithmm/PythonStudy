{
 "cells": [
  {
   "cell_type": "code",
   "execution_count": 6,
   "metadata": {},
   "outputs": [
    {
     "name": "stdout",
     "output_type": "stream",
     "text": [
      "Hello world\n"
     ]
    }
   ],
   "source": [
    "print (\"Hello world\")"
   ]
  },
  {
   "cell_type": "code",
   "execution_count": 7,
   "metadata": {},
   "outputs": [
    {
     "name": "stdout",
     "output_type": "stream",
     "text": [
      "10\n",
      "9\n"
     ]
    }
   ],
   "source": [
    "x,y = (10,9)\n",
    "print(x)\n",
    "print(y)"
   ]
  },
  {
   "cell_type": "code",
   "execution_count": 8,
   "metadata": {},
   "outputs": [
    {
     "name": "stdout",
     "output_type": "stream",
     "text": [
      "1\n",
      "2\n",
      "3\n",
      "4\n",
      "5\n",
      "6\n",
      "7\n",
      "8\n",
      "9\n"
     ]
    }
   ],
   "source": [
    "condition = 1\n",
    "while condition < 10:\n",
    "    print (condition)\n",
    "    condition+=1\n",
    "    \n",
    "#while True: is infinite loop"
   ]
  },
  {
   "cell_type": "code",
   "execution_count": 3,
   "metadata": {},
   "outputs": [
    {
     "name": "stdout",
     "output_type": "stream",
     "text": [
      "10\n",
      "23\n",
      "434\n",
      "5\n",
      "343\n",
      "43\n",
      "43\n",
      "43\n",
      "43\n",
      "422\n",
      "1\n",
      "2\n",
      "3\n",
      "4\n",
      "5\n",
      "6\n",
      "7\n",
      "8\n",
      "9\n",
      "10\n"
     ]
    }
   ],
   "source": [
    "#For Loop\n",
    "list = [10,23,434,5,343,43,43,43,43,422]\n",
    "for num in list :\n",
    "    print(num)\n",
    "    \n",
    "#Range from 1 to 10\n",
    "    \n",
    "for x in range(1,11):\n",
    "    print (x)"
   ]
  },
  {
   "cell_type": "code",
   "execution_count": 18,
   "metadata": {},
   "outputs": [
    {
     "name": "stdout",
     "output_type": "stream",
     "text": [
      "x is greater than y\n"
     ]
    }
   ],
   "source": [
    "#if , if else,  if elif else\n",
    "x = 15\n",
    "y = 10\n",
    "if y>x:\n",
    "    print ('y is greater')\n",
    "elif x==12:\n",
    "    print ('x is 12') \n",
    "else:\n",
    "    print ('x is greater than y')\n"
   ]
  },
  {
   "cell_type": "code",
   "execution_count": 25,
   "metadata": {},
   "outputs": [
    {
     "name": "stdout",
     "output_type": "stream",
     "text": [
      "sum  =  25 x inside is  35\n",
      "x = 15\n",
      "num 1 = 80 num2 =  100\n",
      "180\n",
      "num 1 = 60 num2 =  200\n",
      "260\n",
      "returned sum = 260\n"
     ]
    }
   ],
   "source": [
    "#functions\n",
    "def example_function(x,y):\n",
    "    sum = x+y  \n",
    "    x+=20\n",
    "    print ('sum  = ',sum, 'x inside is ',x)\n",
    "example_function(x,y)\n",
    "print('x =',x)\n",
    "#example of using default arguments.. when the arguments are optional\n",
    "def default_function(num1,num2=100):\n",
    "    print('num 1 =',num1,'num2 = ',num2)\n",
    "    sum = num1+num2\n",
    "    print(sum)\n",
    "    return sum\n",
    "\n",
    "default_function(80) #if we dont give 2nd argument, default value is used.\n",
    "sum = default_function(60,200)\n",
    "print('returned sum =',sum)\n",
    "    "
   ]
  },
  {
   "cell_type": "code",
   "execution_count": 38,
   "metadata": {},
   "outputs": [
    {
     "name": "stdout",
     "output_type": "stream",
     "text": [
      "sample\n",
      "Newline\n",
      "sample\n",
      "Newline\n",
      "sample\n",
      "Newline\n",
      "sample\n",
      "Newline\n",
      "\n"
     ]
    }
   ],
   "source": [
    "#file operations\n",
    "text = 'sample\\nNewline\\n'\n",
    "savefile=open('examplefile.txt','a')\n",
    "savefile.write(text)\n",
    "savefile.close()\n",
    "\n",
    "readme = open('examplefile.txt','r')\n",
    "line = readme.read()\n",
    "print(line)\n",
    "              "
   ]
  },
  {
   "cell_type": "code",
   "execution_count": 39,
   "metadata": {},
   "outputs": [
    {
     "name": "stdout",
     "output_type": "stream",
     "text": [
      "13\n"
     ]
    }
   ],
   "source": [
    "#classes\n",
    "class calc:\n",
    "    def add(x,y):\n",
    "        print(x+y)\n",
    "#using above class.\n",
    "calc.add(10,3)"
   ]
  },
  {
   "cell_type": "code",
   "execution_count": 40,
   "metadata": {},
   "outputs": [
    {
     "name": "stdout",
     "output_type": "stream",
     "text": [
      "what is ur name: Sreejith\n",
      "Hellow Sreejith\n"
     ]
    }
   ],
   "source": [
    "#Getting user input\n",
    "var = input('what is ur name: ')\n",
    "print('Hellow',var)"
   ]
  },
  {
   "cell_type": "code",
   "execution_count": 44,
   "metadata": {},
   "outputs": [
    {
     "name": "stdout",
     "output_type": "stream",
     "text": [
      "3.111111111111111\n",
      "3\n",
      "1.6158932858054431\n"
     ]
    }
   ],
   "source": [
    "#Statistics Module\n",
    "import statistics\n",
    "list_ex = [1,2,3,4,5,6,3,2,2]\n",
    "print(statistics.mean(list_ex))\n",
    "print(statistics.median(list_ex))\n",
    "print(statistics.stdev(list_ex))"
   ]
  },
  {
   "cell_type": "code",
   "execution_count": 64,
   "metadata": {},
   "outputs": [
    {
     "name": "stdout",
     "output_type": "stream",
     "text": [
      "(5, 6, 6, 7)\n",
      "[5, 6, 6, 7]\n",
      "1\n",
      "10\n",
      "1\n",
      "10\n",
      "append-->\n",
      "[1, 44, 3, 4, 10, 50]\n",
      "insert at position 2 , value 60\n",
      "[1, 44, 60, 3, 4, 10, 50]\n",
      "remove first element\n",
      "[44, 60, 3, 4, 10, 50]\n",
      "slice from pos 2 to 5 \n",
      "[3, 4, 10]\n",
      "last element of the list\n",
      "50\n",
      "index value of 50\n",
      "5\n",
      "number of 3's in the list\n",
      "1\n",
      "Sorted list\n",
      "[3, 4, 10, 44, 50, 60]\n"
     ]
    }
   ],
   "source": [
    "#List vs Tuples\n",
    "#both of them are lists. Tuple can't be modified. Tuples are faster\n",
    "\n",
    "#tuple\n",
    "x =(5,6,6,7)\n",
    "\n",
    "#list\n",
    "y=[5,6,6,7]\n",
    "\n",
    "'''\n",
    "def ex_fn():\n",
    "    return 15,6\n",
    "\n",
    "x,y = ex_fn()'''\n",
    "\n",
    "print (x)\n",
    "print (y)\n",
    "\n",
    "z=[1,44,3,4,10]\n",
    "print(z[0])\n",
    "print(z[4])\n",
    "\n",
    "m=(1,2,3,4,10)\n",
    "print(m[0])\n",
    "print(m[4])\n",
    "\n",
    "#List manipulation\n",
    "print('append-->')\n",
    "z.append(50)\n",
    "print(z)\n",
    "\n",
    "print('insert at position 2 , value 60')\n",
    "z.insert(2,60)\n",
    "print(z)\n",
    "\n",
    "print('remove first element')\n",
    "z.remove(z[0])\n",
    "print(z)\n",
    "\n",
    "print('slice from pos 2 to 5 ')\n",
    "print(z[2:5])\n",
    "\n",
    "print('last element of the list')\n",
    "print(z[-1])\n",
    "\n",
    "print('index value of 50')\n",
    "print(z.index(50))\n",
    "\n",
    "print('number of 3\\'s in the list')\n",
    "print(z.count(3))\n",
    "\n",
    "print('Sorted list')\n",
    "z.sort()\n",
    "print(z)\n",
    "\n"
   ]
  },
  {
   "cell_type": "code",
   "execution_count": 68,
   "metadata": {},
   "outputs": [
    {
     "name": "stdout",
     "output_type": "stream",
     "text": [
      "9\n",
      "6\n"
     ]
    }
   ],
   "source": [
    "#multi dimensional list - Matrix\n",
    "\n",
    "list = [5,6,7,2] #1-d list\n",
    "list = [[[5,6],[7,8]],[9,10],[2,15]] # list of list 2 d list\n",
    "print(list[1][0])\n",
    "print(list[0][0][1])"
   ]
  },
  {
   "cell_type": "code",
   "execution_count": null,
   "metadata": {},
   "outputs": [
    {
     "name": "stdout",
     "output_type": "stream",
     "text": [
      "<_csv.reader object at 0x1076c9cf8>\n",
      "Print Using for loop\n",
      "Sreejith 32 Male\n",
      "Ashish 32 Male\n",
      "Ritesh 33 Male\n",
      "Deno 34 Male\n",
      "['Sreejith', 'Ashish', 'Ritesh', 'Deno']\n",
      "['32', '32', '33', '34']\n",
      "['Male', 'Male', 'Male', 'Male']\n"
     ]
    }
   ],
   "source": [
    "#reading data from csv file\n",
    "import csv\n",
    "\n",
    "names = []\n",
    "ages = []\n",
    "Gender = []\n",
    "with open('ex.csv') as csvfile:\n",
    "    readCSV = csv.reader(csvfile,delimiter=',')\n",
    "    print(readCSV)\n",
    "    \n",
    "    print(\"Print Using for loop\")\n",
    "    for row in readCSV:\n",
    "        name=row[0]\n",
    "        age=row[1]\n",
    "        gender = row[2]\n",
    "        \n",
    "        names.append(name)\n",
    "        ages.append(age)\n",
    "        Gender.append(gender)\n",
    "        \n",
    "        print(row[0],row[1],row[2])\n",
    "\n",
    "print(names)\n",
    "print(ages)\n",
    "print(Gender)\n",
    "#Catching exceptions\n",
    "try:\n",
    "    whatname = input('Enter the name of the person of who you want personal details of:')\n",
    "    if whatname in names:\n",
    "        name_idx = names.index(whatname)\n",
    "        what_age = ages[name_idx]\n",
    "        what_gender = Gender[name_idx]\n",
    "        print('Name of  person:',whatname,'\\nAge of Person:',what_age,'\\nGender of Person:',what_gender)\n",
    "    else:\n",
    "        print(\"This name is not in the list\")\n",
    "except Exception as e:\n",
    "    print(e)\n",
    "    \n",
    "print('Continuing')\n",
    "\n",
    "\n",
    "\n"
   ]
  },
  {
   "cell_type": "code",
   "execution_count": null,
   "metadata": {},
   "outputs": [],
   "source": [
    "#Multiline prints\n",
    "print('''\n",
    " so this is a simple\n",
    " Multi line print\n",
    " Pretty cool\n",
    "''')"
   ]
  },
  {
   "cell_type": "code",
   "execution_count": null,
   "metadata": {},
   "outputs": [],
   "source": []
  },
  {
   "cell_type": "code",
   "execution_count": null,
   "metadata": {},
   "outputs": [],
   "source": []
  },
  {
   "cell_type": "code",
   "execution_count": null,
   "metadata": {},
   "outputs": [],
   "source": []
  },
  {
   "cell_type": "code",
   "execution_count": null,
   "metadata": {},
   "outputs": [],
   "source": []
  },
  {
   "cell_type": "code",
   "execution_count": null,
   "metadata": {},
   "outputs": [],
   "source": []
  },
  {
   "cell_type": "code",
   "execution_count": null,
   "metadata": {},
   "outputs": [],
   "source": []
  },
  {
   "cell_type": "code",
   "execution_count": null,
   "metadata": {},
   "outputs": [],
   "source": []
  },
  {
   "cell_type": "code",
   "execution_count": null,
   "metadata": {},
   "outputs": [],
   "source": []
  },
  {
   "cell_type": "code",
   "execution_count": null,
   "metadata": {},
   "outputs": [],
   "source": []
  },
  {
   "cell_type": "code",
   "execution_count": null,
   "metadata": {},
   "outputs": [],
   "source": []
  },
  {
   "cell_type": "code",
   "execution_count": null,
   "metadata": {},
   "outputs": [],
   "source": []
  },
  {
   "cell_type": "code",
   "execution_count": null,
   "metadata": {},
   "outputs": [],
   "source": []
  },
  {
   "cell_type": "code",
   "execution_count": null,
   "metadata": {},
   "outputs": [],
   "source": []
  },
  {
   "cell_type": "code",
   "execution_count": null,
   "metadata": {},
   "outputs": [],
   "source": []
  },
  {
   "cell_type": "code",
   "execution_count": null,
   "metadata": {},
   "outputs": [],
   "source": []
  },
  {
   "cell_type": "code",
   "execution_count": null,
   "metadata": {},
   "outputs": [],
   "source": []
  },
  {
   "cell_type": "code",
   "execution_count": null,
   "metadata": {},
   "outputs": [],
   "source": []
  },
  {
   "cell_type": "code",
   "execution_count": null,
   "metadata": {},
   "outputs": [],
   "source": []
  },
  {
   "cell_type": "code",
   "execution_count": null,
   "metadata": {},
   "outputs": [],
   "source": []
  },
  {
   "cell_type": "code",
   "execution_count": null,
   "metadata": {},
   "outputs": [],
   "source": []
  },
  {
   "cell_type": "code",
   "execution_count": null,
   "metadata": {},
   "outputs": [],
   "source": []
  },
  {
   "cell_type": "code",
   "execution_count": null,
   "metadata": {},
   "outputs": [],
   "source": []
  },
  {
   "cell_type": "code",
   "execution_count": null,
   "metadata": {},
   "outputs": [],
   "source": []
  },
  {
   "cell_type": "code",
   "execution_count": null,
   "metadata": {},
   "outputs": [],
   "source": []
  },
  {
   "cell_type": "code",
   "execution_count": null,
   "metadata": {},
   "outputs": [],
   "source": []
  },
  {
   "cell_type": "code",
   "execution_count": null,
   "metadata": {},
   "outputs": [],
   "source": []
  },
  {
   "cell_type": "code",
   "execution_count": null,
   "metadata": {},
   "outputs": [],
   "source": []
  },
  {
   "cell_type": "code",
   "execution_count": null,
   "metadata": {},
   "outputs": [],
   "source": []
  },
  {
   "cell_type": "code",
   "execution_count": null,
   "metadata": {},
   "outputs": [],
   "source": []
  },
  {
   "cell_type": "code",
   "execution_count": null,
   "metadata": {},
   "outputs": [],
   "source": []
  },
  {
   "cell_type": "code",
   "execution_count": null,
   "metadata": {},
   "outputs": [],
   "source": []
  },
  {
   "cell_type": "code",
   "execution_count": null,
   "metadata": {},
   "outputs": [],
   "source": []
  },
  {
   "cell_type": "code",
   "execution_count": null,
   "metadata": {},
   "outputs": [],
   "source": []
  },
  {
   "cell_type": "code",
   "execution_count": null,
   "metadata": {},
   "outputs": [],
   "source": []
  },
  {
   "cell_type": "code",
   "execution_count": null,
   "metadata": {},
   "outputs": [],
   "source": []
  },
  {
   "cell_type": "code",
   "execution_count": null,
   "metadata": {},
   "outputs": [],
   "source": []
  },
  {
   "cell_type": "code",
   "execution_count": null,
   "metadata": {},
   "outputs": [],
   "source": []
  },
  {
   "cell_type": "code",
   "execution_count": null,
   "metadata": {},
   "outputs": [],
   "source": []
  },
  {
   "cell_type": "code",
   "execution_count": null,
   "metadata": {},
   "outputs": [],
   "source": []
  },
  {
   "cell_type": "code",
   "execution_count": null,
   "metadata": {},
   "outputs": [],
   "source": []
  },
  {
   "cell_type": "code",
   "execution_count": null,
   "metadata": {},
   "outputs": [],
   "source": []
  },
  {
   "cell_type": "code",
   "execution_count": null,
   "metadata": {},
   "outputs": [],
   "source": []
  },
  {
   "cell_type": "code",
   "execution_count": null,
   "metadata": {},
   "outputs": [],
   "source": []
  },
  {
   "cell_type": "code",
   "execution_count": null,
   "metadata": {},
   "outputs": [],
   "source": []
  },
  {
   "cell_type": "code",
   "execution_count": null,
   "metadata": {},
   "outputs": [],
   "source": []
  },
  {
   "cell_type": "code",
   "execution_count": null,
   "metadata": {},
   "outputs": [],
   "source": []
  },
  {
   "cell_type": "code",
   "execution_count": null,
   "metadata": {},
   "outputs": [],
   "source": []
  },
  {
   "cell_type": "code",
   "execution_count": null,
   "metadata": {},
   "outputs": [],
   "source": []
  },
  {
   "cell_type": "code",
   "execution_count": null,
   "metadata": {},
   "outputs": [],
   "source": []
  },
  {
   "cell_type": "code",
   "execution_count": null,
   "metadata": {},
   "outputs": [],
   "source": []
  },
  {
   "cell_type": "code",
   "execution_count": null,
   "metadata": {},
   "outputs": [],
   "source": []
  },
  {
   "cell_type": "code",
   "execution_count": null,
   "metadata": {},
   "outputs": [],
   "source": []
  },
  {
   "cell_type": "code",
   "execution_count": null,
   "metadata": {},
   "outputs": [],
   "source": []
  },
  {
   "cell_type": "code",
   "execution_count": null,
   "metadata": {},
   "outputs": [],
   "source": []
  },
  {
   "cell_type": "code",
   "execution_count": null,
   "metadata": {},
   "outputs": [],
   "source": []
  },
  {
   "cell_type": "code",
   "execution_count": null,
   "metadata": {},
   "outputs": [],
   "source": []
  }
 ],
 "metadata": {
  "kernelspec": {
   "display_name": "Python 3",
   "language": "python",
   "name": "python3"
  },
  "language_info": {
   "codemirror_mode": {
    "name": "ipython",
    "version": 3
   },
   "file_extension": ".py",
   "mimetype": "text/x-python",
   "name": "python",
   "nbconvert_exporter": "python",
   "pygments_lexer": "ipython3",
   "version": "3.7.1"
  }
 },
 "nbformat": 4,
 "nbformat_minor": 2
}
