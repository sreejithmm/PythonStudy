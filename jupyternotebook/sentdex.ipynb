{
 "cells": [
  {
   "cell_type": "code",
   "execution_count": 6,
   "metadata": {},
   "outputs": [
    {
     "name": "stdout",
     "output_type": "stream",
     "text": [
      "Hello world\n"
     ]
    }
   ],
   "source": [
    "print (\"Hello world\")"
   ]
  },
  {
   "cell_type": "code",
   "execution_count": 7,
   "metadata": {},
   "outputs": [
    {
     "name": "stdout",
     "output_type": "stream",
     "text": [
      "10\n",
      "9\n"
     ]
    }
   ],
   "source": [
    "x,y = (10,9)\n",
    "print(x)\n",
    "print(y)"
   ]
  },
  {
   "cell_type": "code",
   "execution_count": 8,
   "metadata": {},
   "outputs": [
    {
     "name": "stdout",
     "output_type": "stream",
     "text": [
      "1\n",
      "2\n",
      "3\n",
      "4\n",
      "5\n",
      "6\n",
      "7\n",
      "8\n",
      "9\n"
     ]
    }
   ],
   "source": [
    "condition = 1\n",
    "while condition < 10:\n",
    "    print (condition)\n",
    "    condition+=1\n",
    "    \n",
    "#while True: is infinite loop"
   ]
  },
  {
   "cell_type": "code",
   "execution_count": 3,
   "metadata": {},
   "outputs": [
    {
     "name": "stdout",
     "output_type": "stream",
     "text": [
      "10\n",
      "23\n",
      "434\n",
      "5\n",
      "343\n",
      "43\n",
      "43\n",
      "43\n",
      "43\n",
      "422\n",
      "1\n",
      "2\n",
      "3\n",
      "4\n",
      "5\n",
      "6\n",
      "7\n",
      "8\n",
      "9\n",
      "10\n"
     ]
    }
   ],
   "source": [
    "#For Loop\n",
    "list = [10,23,434,5,343,43,43,43,43,422]\n",
    "for num in list :\n",
    "    print(num)\n",
    "    \n",
    "#Range from 1 to 10\n",
    "    \n",
    "for x in range(1,11):\n",
    "    print (x)"
   ]
  },
  {
   "cell_type": "code",
   "execution_count": 18,
   "metadata": {},
   "outputs": [
    {
     "name": "stdout",
     "output_type": "stream",
     "text": [
      "x is greater than y\n"
     ]
    }
   ],
   "source": [
    "#if , if else,  if elif else\n",
    "x = 15\n",
    "y = 10\n",
    "if y>x:\n",
    "    print ('y is greater')\n",
    "elif x==12:\n",
    "    print ('x is 12') \n",
    "else:\n",
    "    print ('x is greater than y')\n"
   ]
  },
  {
   "cell_type": "code",
   "execution_count": 25,
   "metadata": {},
   "outputs": [
    {
     "name": "stdout",
     "output_type": "stream",
     "text": [
      "sum  =  25 x inside is  35\n",
      "x = 15\n",
      "num 1 = 80 num2 =  100\n",
      "180\n",
      "num 1 = 60 num2 =  200\n",
      "260\n",
      "returned sum = 260\n"
     ]
    }
   ],
   "source": [
    "#functions\n",
    "def example_function(x,y):\n",
    "    sum = x+y  \n",
    "    x+=20\n",
    "    print ('sum  = ',sum, 'x inside is ',x)\n",
    "example_function(x,y)\n",
    "print('x =',x)\n",
    "#example of using default arguments.. when the arguments are optional\n",
    "def default_function(num1,num2=100):\n",
    "    print('num 1 =',num1,'num2 = ',num2)\n",
    "    sum = num1+num2\n",
    "    print(sum)\n",
    "    return sum\n",
    "\n",
    "default_function(80) #if we dont give 2nd argument, default value is used.\n",
    "sum = default_function(60,200)\n",
    "print('returned sum =',sum)\n",
    "    "
   ]
  },
  {
   "cell_type": "code",
   "execution_count": 38,
   "metadata": {},
   "outputs": [
    {
     "name": "stdout",
     "output_type": "stream",
     "text": [
      "sample\n",
      "Newline\n",
      "sample\n",
      "Newline\n",
      "sample\n",
      "Newline\n",
      "sample\n",
      "Newline\n",
      "\n"
     ]
    }
   ],
   "source": [
    "#file operations\n",
    "text = 'sample\\nNewline\\n'\n",
    "savefile=open('examplefile.txt','a')\n",
    "savefile.write(text)\n",
    "savefile.close()\n",
    "\n",
    "readme = open('examplefile.txt','r')\n",
    "line = readme.read()\n",
    "print(line)\n",
    "              "
   ]
  },
  {
   "cell_type": "code",
   "execution_count": 39,
   "metadata": {},
   "outputs": [
    {
     "name": "stdout",
     "output_type": "stream",
     "text": [
      "13\n"
     ]
    }
   ],
   "source": [
    "#classes\n",
    "class calc:\n",
    "    def add(x,y):\n",
    "        print(x+y)\n",
    "#using above class.\n",
    "calc.add(10,3)"
   ]
  },
  {
   "cell_type": "code",
   "execution_count": 40,
   "metadata": {},
   "outputs": [
    {
     "name": "stdout",
     "output_type": "stream",
     "text": [
      "what is ur name: Sreejith\n",
      "Hellow Sreejith\n"
     ]
    }
   ],
   "source": [
    "#Getting user input\n",
    "var = input('what is ur name: ')\n",
    "print('Hellow',var)"
   ]
  },
  {
   "cell_type": "code",
   "execution_count": 44,
   "metadata": {},
   "outputs": [
    {
     "name": "stdout",
     "output_type": "stream",
     "text": [
      "3.111111111111111\n",
      "3\n",
      "1.6158932858054431\n"
     ]
    }
   ],
   "source": [
    "#Statistics Module\n",
    "import statistics\n",
    "list_ex = [1,2,3,4,5,6,3,2,2]\n",
    "print(statistics.mean(list_ex))\n",
    "print(statistics.median(list_ex))\n",
    "print(statistics.stdev(list_ex))"
   ]
  },
  {
   "cell_type": "code",
   "execution_count": 64,
   "metadata": {},
   "outputs": [
    {
     "name": "stdout",
     "output_type": "stream",
     "text": [
      "(5, 6, 6, 7)\n",
      "[5, 6, 6, 7]\n",
      "1\n",
      "10\n",
      "1\n",
      "10\n",
      "append-->\n",
      "[1, 44, 3, 4, 10, 50]\n",
      "insert at position 2 , value 60\n",
      "[1, 44, 60, 3, 4, 10, 50]\n",
      "remove first element\n",
      "[44, 60, 3, 4, 10, 50]\n",
      "slice from pos 2 to 5 \n",
      "[3, 4, 10]\n",
      "last element of the list\n",
      "50\n",
      "index value of 50\n",
      "5\n",
      "number of 3's in the list\n",
      "1\n",
      "Sorted list\n",
      "[3, 4, 10, 44, 50, 60]\n"
     ]
    }
   ],
   "source": [
    "#List vs Tuples\n",
    "#both of them are lists. Tuple can't be modified. Tuples are faster\n",
    "\n",
    "#tuple\n",
    "x =(5,6,6,7)\n",
    "\n",
    "#list\n",
    "y=[5,6,6,7]\n",
    "\n",
    "'''\n",
    "def ex_fn():\n",
    "    return 15,6\n",
    "\n",
    "x,y = ex_fn()'''\n",
    "\n",
    "print (x)\n",
    "print (y)\n",
    "\n",
    "z=[1,44,3,4,10]\n",
    "print(z[0])\n",
    "print(z[4])\n",
    "\n",
    "m=(1,2,3,4,10)\n",
    "print(m[0])\n",
    "print(m[4])\n",
    "\n",
    "#List manipulation\n",
    "print('append-->')\n",
    "z.append(50)\n",
    "print(z)\n",
    "\n",
    "print('insert at position 2 , value 60')\n",
    "z.insert(2,60)\n",
    "print(z)\n",
    "\n",
    "print('remove first element')\n",
    "z.remove(z[0])\n",
    "print(z)\n",
    "\n",
    "print('slice from pos 2 to 5 ')\n",
    "print(z[2:5])\n",
    "\n",
    "print('last element of the list')\n",
    "print(z[-1])\n",
    "\n",
    "print('index value of 50')\n",
    "print(z.index(50))\n",
    "\n",
    "print('number of 3\\'s in the list')\n",
    "print(z.count(3))\n",
    "\n",
    "print('Sorted list')\n",
    "z.sort()\n",
    "print(z)\n",
    "\n"
   ]
  },
  {
   "cell_type": "code",
   "execution_count": 68,
   "metadata": {},
   "outputs": [
    {
     "name": "stdout",
     "output_type": "stream",
     "text": [
      "9\n",
      "6\n"
     ]
    }
   ],
   "source": [
    "#multi dimensional list - Matrix\n",
    "\n",
    "list = [5,6,7,2] #1-d list\n",
    "list = [[[5,6],[7,8]],[9,10],[2,15]] # list of list 2 d list\n",
    "print(list[1][0])\n",
    "print(list[0][0][1])"
   ]
  },
  {
   "cell_type": "code",
   "execution_count": 6,
   "metadata": {},
   "outputs": [
    {
     "name": "stdout",
     "output_type": "stream",
     "text": [
      "<_csv.reader object at 0x1076c9cf8>\n",
      "Print Using for loop\n",
      "Sreejith 32 Male\n",
      "Ashish 32 Male\n",
      "Ritesh 33 Male\n",
      "Deno 34 Male\n",
      "['Sreejith', 'Ashish', 'Ritesh', 'Deno']\n",
      "['32', '32', '33', '34']\n",
      "['Male', 'Male', 'Male', 'Male']\n",
      "Enter the name of the person of who you want personal details of:hello\n",
      "This name is not in the list\n",
      "Continuing\n"
     ]
    }
   ],
   "source": [
    "#reading data from csv file\n",
    "import csv\n",
    "\n",
    "names = []\n",
    "ages = []\n",
    "Gender = []\n",
    "with open('ex.csv') as csvfile:\n",
    "    readCSV = csv.reader(csvfile,delimiter=',')\n",
    "    print(readCSV)\n",
    "    \n",
    "    print(\"Print Using for loop\")\n",
    "    for row in readCSV:\n",
    "        name=row[0]\n",
    "        age=row[1]\n",
    "        gender = row[2]\n",
    "        \n",
    "        names.append(name)\n",
    "        ages.append(age)\n",
    "        Gender.append(gender)\n",
    "        \n",
    "        print(row[0],row[1],row[2])\n",
    "\n",
    "print(names)\n",
    "print(ages)\n",
    "print(Gender)\n",
    "#Catching exceptions\n",
    "try:\n",
    "    whatname = input('Enter the name of the person of who you want personal details of:')\n",
    "    if whatname in names:\n",
    "        name_idx = names.index(whatname)\n",
    "        what_age = ages[name_idx]\n",
    "        what_gender = Gender[name_idx]\n",
    "        print('Name of  person:',whatname,'\\nAge of Person:',what_age,'\\nGender of Person:',what_gender)\n",
    "    else:\n",
    "        print(\"This name is not in the list\")\n",
    "except Exception as e:\n",
    "    print(e)\n",
    "    \n",
    "print('Continuing')\n",
    "\n",
    "\n",
    "\n"
   ]
  },
  {
   "cell_type": "code",
   "execution_count": 10,
   "metadata": {},
   "outputs": [
    {
     "name": "stdout",
     "output_type": "stream",
     "text": [
      "\n",
      " so this is a simple\n",
      " Multi line print\n",
      " Pretty cool\n",
      "\n"
     ]
    }
   ],
   "source": [
    "#Multiline prints\n",
    "print('''\n",
    " so this is a simple\n",
    " Multi line print\n",
    " Pretty cool\n",
    "''')"
   ]
  },
  {
   "cell_type": "markdown",
   "metadata": {},
   "source": [
    "# Dictionaries\n",
    "##Pairs of keys and values\n",
    "#Unordered\n",
    "\n"
   ]
  },
  {
   "cell_type": "code",
   "execution_count": 21,
   "metadata": {
    "scrolled": true
   },
   "outputs": [
    {
     "name": "stdout",
     "output_type": "stream",
     "text": [
      "{'Sreejith': [32, 'Male'], 'Ashish': [32, 'Male'], 'Deno': [34, 'Male']}\n",
      "Male\n",
      "{'Sreejith': [32, 'Male'], 'Ashish': [32, 'Male'], 'Deno': [34, 'Male'], 'Tim': [14, 'Female']}\n",
      "{'Sreejith': [32, 'Male'], 'Ashish': [33, 'Male'], 'Deno': [34, 'Male'], 'Tim': [14, 'Female']}\n",
      "{'Sreejith': [32, 'Male'], 'Ashish': [33, 'Male'], 'Deno': [34, 'Male']}\n"
     ]
    }
   ],
   "source": [
    "exdict = {'Sreejith':[32,'Male'],'Ashish':[32,'Male'],'Deno':[34,'Male']}\n",
    "print (exdict)\n",
    "\n",
    "#Age of Sreejith\n",
    "print(exdict['Sreejith'][1])\n",
    "\n",
    "exdict['Tim'] = [14,'Female']\n",
    "print(exdict)\n",
    "\n",
    "exdict['Ashish'] = [33,'Male']\n",
    "\n",
    "print(exdict)\n",
    "\n",
    "del exdict['Tim']\n",
    "print (exdict)"
   ]
  },
  {
   "cell_type": "code",
   "execution_count": 1,
   "metadata": {},
   "outputs": [
    {
     "name": "stdout",
     "output_type": "stream",
     "text": [
      "5\n",
      "Same\n"
     ]
    }
   ],
   "source": [
    "num1 = -5\n",
    "num2 = 5\n",
    "\n",
    "print(abs(num1))\n",
    "\n",
    "if(abs(num1)==num2):\n",
    "    print('Same')\n",
    "else:\n",
    "    print('Not same')"
   ]
  },
  {
   "cell_type": "code",
   "execution_count": 4,
   "metadata": {},
   "outputs": [
    {
     "name": "stdout",
     "output_type": "stream",
     "text": [
      "\n",
      "Welcome to Python 3.7's help utility!\n",
      "\n",
      "If this is your first time using Python, you should definitely check out\n",
      "the tutorial on the Internet at https://docs.python.org/3.7/tutorial/.\n",
      "\n",
      "Enter the name of any module, keyword, or topic to get help on writing\n",
      "Python programs and using Python modules.  To quit this help utility and\n",
      "return to the interpreter, just type \"quit\".\n",
      "\n",
      "To get a list of available modules, keywords, symbols, or topics, type\n",
      "\"modules\", \"keywords\", \"symbols\", or \"topics\".  Each module also comes\n",
      "with a one-line summary of what it does; to list the modules whose name\n",
      "or summary contain a given string such as \"spam\", type \"modules spam\".\n",
      "\n",
      "help> quit\n",
      "\n",
      "You are now leaving help and returning to the Python interpreter.\n",
      "If you want to ask for help on a particular object directly from the\n",
      "interpreter, you can type \"help(object)\".  Executing \"help('string')\"\n",
      "has the same effect as typing a particular string at the help> prompt.\n"
     ]
    }
   ],
   "source": [
    "help()"
   ]
  },
  {
   "cell_type": "code",
   "execution_count": 4,
   "metadata": {},
   "outputs": [
    {
     "name": "stdout",
     "output_type": "stream",
     "text": [
      "hello world , I am here\n"
     ]
    }
   ],
   "source": [
    "print ('hello world , I am here')"
   ]
  },
  {
   "cell_type": "code",
   "execution_count": 3,
   "metadata": {},
   "outputs": [
    {
     "name": "stdout",
     "output_type": "stream",
     "text": [
      "[53, 343, 534, 42, 342, 53, 453, 343]\n",
      "534\n",
      "5\n",
      "6\n",
      "5.23\n",
      "5\n"
     ]
    }
   ],
   "source": [
    "ex_list = [53,343,534,42,342,53,453,343]\n",
    "print( (ex_list))\n",
    "\n",
    "print(max(ex_list))\n",
    "\n",
    "flatvar=5.23\n",
    "import math as m\n",
    "print(m.floor(flatvar))\n",
    "print(m.ceil(flatvar))\n",
    "\n",
    "print(str(flatvar))\n",
    "print(int(flatvar))\n"
   ]
  },
  {
   "cell_type": "code",
   "execution_count": 6,
   "metadata": {},
   "outputs": [
    {
     "name": "stdout",
     "output_type": "stream",
     "text": [
      "/Users/smohanan/EDrive/EDrive/Sreejith/Personal/Study/python/PythonStudy/jupyternotebook\n"
     ]
    }
   ],
   "source": [
    "#python os module\n",
    "import os\n",
    "\n",
    "pwd = os.getcwd()\n",
    "print(pwd)\n",
    "\n",
    "#os.mkdir('oldname') will create a new directory\n",
    "#os.rename('oldname','newname')\n",
    "#os.rmdir('newname')"
   ]
  },
  {
   "cell_type": "code",
   "execution_count": 15,
   "metadata": {},
   "outputs": [
    {
     "name": "stderr",
     "output_type": "stream",
     "text": [
      "test\n",
      "test\n"
     ]
    },
    {
     "name": "stdout",
     "output_type": "stream",
     "text": [
      "test\n",
      "['/anaconda3/envs/ml_python/lib/python3.7/site-packages/ipykernel_launcher.py', '-f', '/Users/smohanan/Library/Jupyter/runtime/kernel-9dc97056-1faf-433d-b051-ae966e97271d.json']\n"
     ]
    }
   ],
   "source": [
    "#Python sys module\n",
    "import sys as s\n",
    "s.stderr.write('test\\n')\n",
    "s.stderr.flush()\n",
    "\n",
    "s.stdout.write('test\\n')\n",
    "s.stderr.flush()\n",
    "\n",
    "s.stderr.write('test\\n')\n",
    "s.stderr.flush()\n",
    "\n",
    "print(s.argv)\n"
   ]
  },
  {
   "cell_type": "code",
   "execution_count": 29,
   "metadata": {},
   "outputs": [
    {
     "data": {
      "text/plain": [
       "\"\\nurls = urllib.request.urlopen('https://www.google.com')\\n#print(urls.read())  ---> will print out the page\\nurl = 'http://pythonprogramming.net'\\nvalues = {'s':'basic','submit':'search'}\\ndata = urllib.parse.urlencode(values)\\ndata = data.encode('utf-8')\\nreq = urllib.request.Request(url,data)\\nresp = urllib.request.urlopen(req)\\nrespData = resp.read()\\n\\n#print(respData)\\n\""
      ]
     },
     "execution_count": 29,
     "metadata": {},
     "output_type": "execute_result"
    }
   ],
   "source": [
    "#urllib\n",
    "import urllib.request\n",
    "import urllib.parse\n",
    "'''\n",
    "urls = urllib.request.urlopen('https://www.google.com')\n",
    "#print(urls.read())  ---> will print out the page\n",
    "url = 'http://pythonprogramming.net'\n",
    "values = {'s':'basic','submit':'search'}\n",
    "data = urllib.parse.urlencode(values)\n",
    "data = data.encode('utf-8')\n",
    "req = urllib.request.Request(url,data)\n",
    "resp = urllib.request.urlopen(req)\n",
    "respData = resp.read()\n",
    "\n",
    "#print(respData)\n",
    "'''"
   ]
  },
  {
   "cell_type": "code",
   "execution_count": 5,
   "metadata": {},
   "outputs": [
    {
     "name": "stdout",
     "output_type": "stream",
     "text": [
      "['25', '24', '97', '102']\n",
      "['Jessica', 'Daniel', 'Edward', 'Oscar']\n"
     ]
    }
   ],
   "source": [
    "#Regular expression:\n",
    "'''\n",
    "Identifiers:\n",
    "\n",
    "\\d any number\n",
    "\\D anything but a a number\n",
    "\\s space\n",
    "\\S anything but a space\n",
    "\\w any chanracter\n",
    "\\W anything but a character\n",
    ". any character,except for a newline\n",
    "\\b the whitespace around words\n",
    "\\. a period\n",
    "\n",
    "\n",
    "Modifiers:\n",
    "{1,3} we're expectong 1-3\n",
    "+ Match 1 or more\n",
    "? Match 0 or 1\n",
    "* Match 0 or more\n",
    "$ match end of a string\n",
    "^ Matching the beginning of a string\n",
    "| either or (eg: \\d{1-3} | \\s)\n",
    "[] range of variance(eg: [A-Z] or [1-5a-qA-Z])\n",
    "{x} expecting x amount\n",
    "\n",
    "White Space CHaracter:\n",
    "\\n newline\n",
    "\\s space\n",
    "\\t tab\n",
    "\\e escape\n",
    "\\f form feed\n",
    "\\r return\n",
    "\n",
    "DONT FORGET:!\n",
    "\n",
    ". + * ? [] $ ^ () {} | \\\n",
    "'''\n",
    "\n",
    "\n",
    "import re\n",
    "examplestring ='''\n",
    "Jessica is 25 years old and Daniel is 24 years old.\n",
    "Edward is 97 , and his grandfather, Oscar, is 102\n",
    "'''\n",
    "ages = re.findall(r'\\d{1,3}',examplestring) # says we are expecting numbers of 1 to 3 digits\n",
    "names = re.findall(r'[A-Z][a-z]*',examplestring) #says we are expecting starting with Capital A-Z and follows with a-z and stops parsing if anything other than this comes\n",
    "print(ages)\n",
    "print(names)\n",
    "                "
   ]
  },
  {
   "cell_type": "code",
   "execution_count": 8,
   "metadata": {},
   "outputs": [
    {
     "name": "stdout",
     "output_type": "stream",
     "text": [
      "Learn how to use Python with Pandas, Matplotlib, and other modules to gather insights from and about your data.\n",
      "Control hardware with Python programming and the Raspberry Pi.\n",
      "How to develop websites with either the Flask or Django frameworks for Python.\n",
      "Create your own games with Python\\'s PyGame library, or check out the multi-platform Kivy.\n",
      "Learn the basic and intermediate Python fundamentals.\n",
      "Just getting started?\n",
      "Not a problem, learn the basics of programming with Python 3 here!\n",
      "Creating various software bots, like bots in games, in chats, and to interact with the web. Not to be confused with robotics!\n",
      "Create software with a user interface using Tkinter, PyQt, or Kivy.\n",
      "Curious about more than just Python? While not covered in nearly as much depth, here are some tutorials in other languages:\n",
      "Go is a programming language aimed at being simple, easy to work with, and capable of high performance.\n",
      "\\n\\t\\t\\t\\t\\t\\t<a href=\"#\" class=\"btn btn-flat white modal-close\">Cancel</a> &nbsp;\\n\\t\\t\\t\\t\\t\\t<a href=\"#\" class=\"waves-effect waves-blue blue btn btn-flat modal-action modal-close\">Login</a>\\n\\t\\t\\t\\t\\t\n",
      "\\n\\t\\t\\t\\t\\t\\t\\t\\t<a href=\"#\" class=\"btn btn-flat white modal-close\">Cancel</a> &nbsp;\\n\\t\\t\\t\\t\\t\\t\\t\\t<button class=\"btn\" type=submit value=Register>Sign Up</button>\\n\\t\\t\\t\\t\\t\\t\\t\n"
     ]
    }
   ],
   "source": [
    "\n",
    "import urllib.request\n",
    "import urllib.parse\n",
    "import re\n",
    "\n",
    "url = 'http://pythonprogramming.net'\n",
    "values={'s':'basics',\n",
    "        'submit':'search'}\n",
    "data = urllib.parse.urlencode(values)\n",
    "data = data.encode('utf-8')\n",
    "req = urllib.request.Request(url,data)\n",
    "resp = urllib.request.urlopen(req)\n",
    "respData = resp.read()\n",
    "\n",
    "#print(respData) # prints a whole junk html data\n",
    "\n",
    "paragraph = re.findall(r'<p>(.*?)</p>',str(respData))\n",
    "\n",
    "for eachP in paragraph:\n",
    "    print (eachP)\n",
    "\n",
    "\n"
   ]
  },
  {
   "cell_type": "code",
   "execution_count": 10,
   "metadata": {},
   "outputs": [
    {
     "name": "stdout",
     "output_type": "stream",
     "text": [
      "Thread-15 1\n",
      "Thread-16 2\n",
      "Thread-21 7\n",
      "Thread-22 8\n",
      "Thread-23 9\n",
      "Thread-18 4\n",
      "Thread-20 6\n",
      "Thread-19 5\n",
      "Thread-14 0\n",
      "Thread-17 3\n",
      "Thread-16 11\n",
      "Thread-21 12\n",
      "Thread-20 16\n",
      "Thread-19 17\n",
      "Thread-23 14\n",
      "Thread-22 13\n",
      "Thread-15 10\n",
      "Thread-18 15\n",
      "Thread-14 18\n",
      "Thread-17 19\n",
      "Entire job took: 1.0147550106048584\n"
     ]
    }
   ],
   "source": [
    "#Threads\n",
    "import threading\n",
    "from queue import Queue\n",
    "import time\n",
    "\n",
    "q = Queue()\n",
    "print_lock = threading.Lock()\n",
    "\n",
    "def examplejob(worker):\n",
    "    time.sleep(0.5)\n",
    "    with print_lock:\n",
    "        print(threading.current_thread().name,worker)\n",
    "\n",
    "def threader():\n",
    "    while True:\n",
    "        worker = q.get()\n",
    "        examplejob(worker)\n",
    "        q.task_done()\n",
    "\n",
    "for x in range(10):\n",
    "    t = threading.Thread(target=threader)\n",
    "    t.daemon = True #will die when main thread dies\n",
    "    t.start()\n",
    "\n",
    "start = time.time()\n",
    "for worker in range(20):\n",
    "    q.put(worker)\n",
    "\n",
    "q.join() # wait for threads to complete\n",
    "print('Entire job took:',time.time()-start)\n"
   ]
  },
  {
   "cell_type": "code",
   "execution_count": 16,
   "metadata": {},
   "outputs": [
    {
     "name": "stdout",
     "output_type": "stream",
     "text": [
      "b'ex.csv\\nexamplefile.txt\\nsentdex.ipynb\\nsentdex.py\\n'\n"
     ]
    }
   ],
   "source": [
    "#Subprocess Module\n",
    "\n",
    "import subprocess\n",
    "subprocess.call('ls',shell=True) # This works in python interpreter\n",
    "output = subprocess.check_output('ls',shell=True)\n",
    "print(output)"
   ]
  },
  {
   "cell_type": "code",
   "execution_count": 24,
   "metadata": {
    "scrolled": true
   },
   "outputs": [
    {
     "data": {
      "image/png": "[encoded data removed]",
      "text/plain": [
       "<Figure size 432x288 with 1 Axes>"
      ]
     },
     "metadata": {
      "needs_background": "light"
     },
     "output_type": "display_data"
    }
   ],
   "source": [
    "#Matplotlib\n",
    "from matplotlib import pyplot as plt\n",
    "plt.plot([5,6,7],[100,6,8])\n",
    "plt.show()\n",
    "#plt.plot([5,20,7],[100,6,8])\n"
   ]
  },
  {
   "cell_type": "code",
   "execution_count": 25,
   "metadata": {},
   "outputs": [
    {
     "data": {
      "image/png": "[encoded data removed]",
      "text/plain": [
       "<Figure size 432x288 with 1 Axes>"
      ]
     },
     "metadata": {
      "needs_background": "light"
     },
     "output_type": "display_data"
    }
   ],
   "source": [
    "#Matplotlib\n",
    "from matplotlib import pyplot as plt\n",
    "\n",
    "x=[5,6,7]\n",
    "y=[100,6,8]\n",
    "plt.plot(x,y)\n",
    "plt.title('Epic chart')\n",
    "plt.ylabel('Y Axis')\n",
    "plt.xlabel('X Axis')\n",
    "plt.show()\n",
    "#plt.plot([5,20,7],[100,6,8])\n"
   ]
  },
  {
   "cell_type": "code",
   "execution_count": 38,
   "metadata": {},
   "outputs": [
    {
     "data": {
      "image/png": "[encoded data removed]",
      "text/plain": [
       "<Figure size 432x288 with 1 Axes>"
      ]
     },
     "metadata": {},
     "output_type": "display_data"
    }
   ],
   "source": [
    "#Matplotlib- Styles  --> NEED TO DOWNLOAD Styles folder from pythonprogramming.net if in windows.In MAC condaenv, it exists\n",
    "from matplotlib import pyplot as plt\n",
    "from matplotlib import style\n",
    "\n",
    "style.use('ggplot')\n",
    "style.use('dark_background')\n",
    "#style.use('grayscale')\n",
    "x=[4,6,7]\n",
    "y=[6,6,8]\n",
    "\n",
    "x1=[4,6,10]\n",
    "y1=[9.5,6,2]\n",
    "plt.plot(x,y,'g',linewidth=2)\n",
    "plt.plot(x1,y1,'r',linewidth=2)\n",
    "plt.title('Epic chart')\n",
    "plt.ylabel('Y Axis')\n",
    "plt.xlabel('X Axis')\n",
    "plt.show()\n",
    "#plt.plot([5,20,7],[100,6,8])\n"
   ]
  },
  {
   "cell_type": "code",
   "execution_count": 62,
   "metadata": {},
   "outputs": [
    {
     "data": {
      "image/png": "[encoded data removed]",
      "text/plain": [
       "<Figure size 432x288 with 1 Axes>"
      ]
     },
     "metadata": {},
     "output_type": "display_data"
    },
    {
     "data": {
      "image/png": "[encoded data removed]",
      "text/plain": [
       "<Figure size 432x288 with 1 Axes>"
      ]
     },
     "metadata": {},
     "output_type": "display_data"
    },
    {
     "data": {
      "image/png": "[encoded data removed]",
      "text/plain": [
       "<Figure size 432x288 with 1 Axes>"
      ]
     },
     "metadata": {},
     "output_type": "display_data"
    },
    {
     "name": "stdout",
     "output_type": "stream",
     "text": [
      "[ 1.  2.  4.  5.  6.  7.  8.  9. 10. 11. 12. 13. 14. 15.]\n",
      "[40. 50. 55. 41. 22. 33. 44. 70. 71. 21. 99. 95. 92. 80.]\n"
     ]
    },
    {
     "data": {
      "image/png": "[encoded data removed]",
      "text/plain": [
       "<Figure size 432x288 with 1 Axes>"
      ]
     },
     "metadata": {},
     "output_type": "display_data"
    }
   ],
   "source": [
    "#Matplotlib legends\n",
    "from matplotlib import pyplot as plt\n",
    "from matplotlib import style\n",
    "\n",
    "style.use('ggplot')\n",
    "style.use('dark_background')\n",
    "#style.use('grayscale')\n",
    "x=[4,6,7,12,40,30]\n",
    "y=[6,6,8,9,20,23]\n",
    "\n",
    "x1=[4,6,10]\n",
    "y1=[9.5,6,2]\n",
    "\n",
    "hdl1,=plt.plot(x,y,'g',linewidth=2,label='line1')\n",
    "hdl2,=plt.plot(x1,y1,'r',linewidth=2,label='line2')\n",
    "\n",
    "plt.title('Epic chart')\n",
    "plt.ylabel('Y Axis')\n",
    "plt.xlabel('X Axis')\n",
    "plt.legend([hdl1,hdl2],['line1','line2']) #plt.legen() as mentioned in tutorial is not wokring.\n",
    "plt.grid(True,color='y')\n",
    "plt.show()\n",
    "\n",
    "#Scatter plots, bar charts\n",
    "\n",
    "plt.title('Scatter chart')\n",
    "plt.scatter(x,y,color='g')\n",
    "plt.ylabel('Y Axis')\n",
    "plt.xlabel('X Axis')\n",
    "\n",
    "plt.show()\n",
    "\n",
    "plt.title('Bar chart')\n",
    "plt.bar(x,y,color='b')\n",
    "plt.ylabel('Y Axis')\n",
    "plt.xlabel('X Axis')\n",
    "\n",
    "plt.show()\n",
    "\n",
    "\n",
    "#reading data from a CSV file. \n",
    "\n",
    "import csv\n",
    "import numpy as np\n",
    "\n",
    "x,y = np.loadtxt('plotcsv.txt',unpack=True,delimiter=',')\n",
    "print(x) # x is numpy array, not a list\n",
    "print(y)\n",
    "\n",
    "plt.title('Numpy chart')\n",
    "plt.plot(x,y)\n",
    "plt.show()\n"
   ]
  },
  {
   "cell_type": "code",
   "execution_count": 69,
   "metadata": {},
   "outputs": [
    {
     "name": "stdout",
     "output_type": "stream",
     "text": [
      "b'dict.pickle\\nex.csv\\nexamplefile.txt\\nplotcsv.txt\\nsentdex.ipynb\\nsentdex.py\\n'\n",
      "{1: 'h', 2: 'b', 3: '5'}\n"
     ]
    }
   ],
   "source": [
    "#pickle\n",
    "import pickle\n",
    "\n",
    "exdict = {1:\"h\",2:\"b\",3:\"5\"}\n",
    "pickout = open(\"dict.pickle\",\"wb\")\n",
    "\n",
    "pickle.dump(exdict,pickout)\n",
    "\n",
    "pickout.close()\n",
    "\n",
    "\n",
    "import subprocess\n",
    "output = subprocess.check_output('ls',shell=True)\n",
    "print(output)\n",
    "\n",
    "#read dict.pickle\n",
    "\n",
    "dictread = open('dict.pickle','rb')\n",
    "#print(dictread.read())\n",
    "\n",
    "exam_dict = pickle.load(dictread)\n",
    "print(exam_dict)"
   ]
  },
  {
   "cell_type": "code",
   "execution_count": 73,
   "metadata": {},
   "outputs": [
    {
     "name": "stdout",
     "output_type": "stream",
     "text": [
      "[1,2,3,4]\n",
      "[1, 2, 3, 4]\n",
      "1\n",
      "ente expr:34\n",
      "34\n",
      "this works like eval\n"
     ]
    }
   ],
   "source": [
    "#eval, exec\n",
    "\n",
    "list_Str = '[1,2,3,4]'\n",
    "\n",
    "list_str= eval(list_Str)\n",
    "\n",
    "print(list_Str)\n",
    "print(list_str)\n",
    "print(list_str[0])\n",
    "\n",
    "s= eval(input('ente expr:'))\n",
    "print(s)\n",
    "\n",
    "eval(\"print('this works like eval')\")\n"
   ]
  },
  {
   "cell_type": "code",
   "execution_count": 80,
   "metadata": {},
   "outputs": [
    {
     "name": "stdout",
     "output_type": "stream",
     "text": [
      "this works like eval\n",
      "None\n",
      "[5, 6, 7, 8]\n"
     ]
    }
   ],
   "source": [
    "exec(\"print('this works like eval')\")\n",
    "\n",
    "list_str = \"[1,2,3,4]\"\n",
    "list_str = exec(list_str) # does not like eval\n",
    "print(list_str)\n",
    "\n",
    "exec(\"liststr2 = [5,6,7,8]\")\n",
    "print(liststr2)\n",
    "\n",
    "\n"
   ]
  },
  {
   "cell_type": "code",
   "execution_count": 108,
   "metadata": {},
   "outputs": [
    {
     "name": "stdout",
     "output_type": "stream",
     "text": [
      "(1542722452.0368938, '11-20-2018 19-30-52', 'Python', 19.0)\n",
      "(1542722453.039237, '11-20-2018 19-30-53', 'Python', 10.0)\n",
      "(1542722455.054519, '11-20-2018 19-30-55', 'Python', 10.0)\n",
      "(1542722458.072669, '11-20-2018 19-30-58', 'Python', 10.0)\n",
      "(1542722460.080736, '11-20-2018 19-31-00', 'Python', 18.0)\n",
      "(1542722479.381393, '11-20-2018 19-31-19', 'Python', 12.0)\n",
      "(1542722480.391792, '11-20-2018 19-31-20', 'Python', 13.0)\n",
      "(1542722481.399464, '11-20-2018 19-31-21', 'Python', 11.0)\n",
      "(1542722482.411401, '11-20-2018 19-31-22', 'Python', 18.0)\n",
      "(1542722483.421663, '11-20-2018 19-31-23', 'Python', 13.0)\n",
      "(1542722485.443576, '11-20-2018 19-31-25', 'Python', 11.0)\n",
      "(1542722486.454792, '11-20-2018 19-31-26', 'Python', 16.0)\n",
      "(1542722487.4626298, '11-20-2018 19-31-27', 'Python', 17.0)\n",
      "Hellow\n",
      "(1542722452.0368938, '11-20-2018 19-30-52', 'Python', 19.0)\n",
      "(1542722453.039237, '11-20-2018 19-30-53', 'Python', 10.0)\n",
      "(1542722455.054519, '11-20-2018 19-30-55', 'Python', 10.0)\n",
      "(1542722458.072669, '11-20-2018 19-30-58', 'Python', 10.0)\n",
      "(1542722479.381393, '11-20-2018 19-31-19', 'Python', 12.0)\n",
      "(1542722480.391792, '11-20-2018 19-31-20', 'Python', 13.0)\n",
      "(1542722481.399464, '11-20-2018 19-31-21', 'Python', 11.0)\n",
      "(1542722483.421663, '11-20-2018 19-31-23', 'Python', 13.0)\n",
      "(1542722485.443576, '11-20-2018 19-31-25', 'Python', 11.0)\n",
      "(1542722486.454792, '11-20-2018 19-31-26', 'Python', 16.0)\n",
      "(1542722487.4626298, '11-20-2018 19-31-27', 'Python', 17.0)\n",
      "After update\n"
     ]
    }
   ],
   "source": [
    "#SQLite\n",
    "import sqlite3\n",
    "import time\n",
    "import datetime\n",
    "import random\n",
    "\n",
    "conn = sqlite3.connect('tutorial.db')\n",
    "c = conn.cursor()\n",
    "\n",
    "def creat_table():\n",
    "    c.execute('CREATE TABLE IF NOT EXISTS stuffToPlot(unix REAL, datestamp TEXT, keyword TEXT, value REAL)')\n",
    "def enter_data():\n",
    "    c.execute(\"INSERT INTO stuffToPlot VALUES(145,'2016-01-01','Python',3.7)\")\n",
    "    conn.commit()\n",
    "    c.close()\n",
    "    conn.close()\n",
    "def dynamic_data_entry():\n",
    "    uxtime = time.time();\n",
    "    date = datetime.datetime.fromtimestamp(uxtime).strftime('%m-%d-%Y %H-%M-%S')\n",
    "    keyword = 'Python'\n",
    "    value = random.randrange(10,20)\n",
    "    c.execute(\"INSERT INTO stuffToPlot(unix,datestamp,keyword,value) VALUES (?,?,?,?)\",\n",
    "             (uxtime,date,keyword,value))\n",
    "    conn.commit()\n",
    "\n",
    "def read_from_db():\n",
    "    c.execute(\"SELECT * FROM stuffToPlot\")\n",
    "    data = c.fetchall()\n",
    " #   print(data)\n",
    "    for row in data:\n",
    "        print(row)\n",
    "        print('\\n')\n",
    "        \n",
    "def read_selectively_fromdb():\n",
    "    c.execute(\"SELECT * FROM stuffToPlot WHERE value=99 AND keyword='Python'\")\n",
    "    data = c.fetchall()\n",
    " #   print(data)\n",
    "    for row in data:\n",
    "        print(row)\n",
    "        print('\\n')\n",
    "\n",
    "def del_and_update_db():\n",
    "    c.execute(\"SELECT * from stuffToPlot\")\n",
    "    [print (row) for row in c.fetchall()] #oneliner for loops\n",
    " #   c.execute(\"UPDATE stuffToPlot SET value =99 WHERE value=15\")\n",
    "    print(\"Hellow\")\n",
    "    c.execute(\"DELETE FROM stuffToPlot WHERE value=18\")\n",
    "    c.execute(\"SELECT * from stuffToPlot\")\n",
    "    [print (row) for row in c.fetchall()] #oneliner for loops\n",
    "\n",
    "    conn.commit()\n",
    "\n",
    "#creat_table()\n",
    "#enter_data()\n",
    "#for i in range(1,10):\n",
    "#    dynamic_data_entry()\n",
    " #   time.sleep(1)\n",
    "\n",
    "#read_from_db()\n",
    "\n",
    "\n",
    "\n",
    "#print(\"Selective read\")\n",
    "#read_selectively_fromdb()\n",
    "del_and_update_db()\n",
    "print(\"After update\")\n",
    "read_selectively_fromdb()\n",
    "c.close()\n",
    "conn.close()\n",
    "\n",
    "\n",
    "\n",
    "\n"
   ]
  },
  {
   "cell_type": "code",
   "execution_count": null,
   "metadata": {},
   "outputs": [],
   "source": []
  },
  {
   "cell_type": "code",
   "execution_count": null,
   "metadata": {},
   "outputs": [],
   "source": []
  }
 ],
 "metadata": {
  "kernelspec": {
   "display_name": "Python 3",
   "language": "python",
   "name": "python3"
  },
  "language_info": {
   "codemirror_mode": {
    "name": "ipython",
    "version": 3
   },
   "file_extension": ".py",
   "mimetype": "text/x-python",
   "name": "python",
   "nbconvert_exporter": "python",
   "pygments_lexer": "ipython3",
   "version": "3.7.0"
  }
 },
 "nbformat": 4,
 "nbformat_minor": 2
}
